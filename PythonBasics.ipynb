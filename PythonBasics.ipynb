{
  "nbformat": 4,
  "nbformat_minor": 0,
  "metadata": {
    "colab": {
      "name": "1. PythonBasics.ipynb",
      "provenance": [],
      "collapsed_sections": []
    },
    "kernelspec": {
      "name": "python3",
      "display_name": "Python 3"
    }
  },
  "cells": [
    {
      "cell_type": "code",
      "metadata": {
        "id": "WknxSfP3rrS9",
        "colab_type": "code",
        "colab": {}
      },
      "source": [
        "#Chapter 2.3\n",
        "import keyword"
      ],
      "execution_count": 0,
      "outputs": []
    },
    {
      "cell_type": "code",
      "metadata": {
        "id": "LMcbrCrDsPok",
        "colab_type": "code",
        "outputId": "1f6b3d38-0525-4ab9-dfe3-fd71f990ec54",
        "colab": {
          "base_uri": "https://localhost:8080/",
          "height": 54
        }
      },
      "source": [
        "print(keyword.kwlist)"
      ],
      "execution_count": 0,
      "outputs": [
        {
          "output_type": "stream",
          "text": [
            "['False', 'None', 'True', 'and', 'as', 'assert', 'break', 'class', 'continue', 'def', 'del', 'elif', 'else', 'except', 'finally', 'for', 'from', 'global', 'if', 'import', 'in', 'is', 'lambda', 'nonlocal', 'not', 'or', 'pass', 'raise', 'return', 'try', 'while', 'with', 'yield']\n"
          ],
          "name": "stdout"
        }
      ]
    },
    {
      "cell_type": "code",
      "metadata": {
        "id": "3vcsAPA-sP1I",
        "colab_type": "code",
        "outputId": "6d9b41c9-35ad-46a3-e2f5-135970ab2e89",
        "colab": {
          "base_uri": "https://localhost:8080/",
          "height": 51
        }
      },
      "source": [
        "print(\"\\n Number of keywords are :\",len(keyword.kwlist))"
      ],
      "execution_count": 0,
      "outputs": [
        {
          "output_type": "stream",
          "text": [
            "\n",
            " Number of keywords are : 33\n"
          ],
          "name": "stdout"
        }
      ]
    },
    {
      "cell_type": "code",
      "metadata": {
        "id": "kaXWVm0ysP5D",
        "colab_type": "code",
        "outputId": "c4b6b1f4-ad2a-415c-9b7d-271c5121567c",
        "colab": {
          "base_uri": "https://localhost:8080/",
          "height": 34
        }
      },
      "source": [
        "#Chapter 2.4\n",
        "\n",
        "# comments are either this or\n",
        "\n",
        "'''\n",
        "Comments can also be \n",
        "on the multiline\n",
        "'''"
      ],
      "execution_count": 0,
      "outputs": [
        {
          "output_type": "execute_result",
          "data": {
            "text/plain": [
              "'\\nComments can also be this\\n'"
            ]
          },
          "metadata": {
            "tags": []
          },
          "execution_count": 5
        }
      ]
    },
    {
      "cell_type": "code",
      "metadata": {
        "id": "1sD61PcTsP8i",
        "colab_type": "code",
        "outputId": "358e45de-0ffd-4792-86d6-a86b33d87bf2",
        "colab": {
          "base_uri": "https://localhost:8080/",
          "height": 374
        }
      },
      "source": [
        "#indentation\n",
        "for i in range(10):\n",
        "  print (i)\n",
        "  print (i*2)\n",
        "print (100)  # not in the for loop"
      ],
      "execution_count": 0,
      "outputs": [
        {
          "output_type": "stream",
          "text": [
            "0\n",
            "0\n",
            "1\n",
            "2\n",
            "2\n",
            "4\n",
            "3\n",
            "6\n",
            "4\n",
            "8\n",
            "5\n",
            "10\n",
            "6\n",
            "12\n",
            "7\n",
            "14\n",
            "8\n",
            "16\n",
            "9\n",
            "18\n",
            "100\n"
          ],
          "name": "stdout"
        }
      ]
    },
    {
      "cell_type": "code",
      "metadata": {
        "id": "0ldM4Y7DNpl9",
        "colab_type": "code",
        "outputId": "021c3245-193b-420e-c532-7420cc4b6ec7",
        "colab": {
          "base_uri": "https://localhost:8080/",
          "height": 34
        }
      },
      "source": [
        "#multi line statement either with \\ or with \"()\"\n",
        "\n",
        "a = 1+2+3 +\\\n",
        "4+5+6 + \\\n",
        "7+8+9\n",
        "\n",
        "a = (1+2+3+\n",
        "     4+5+6+\n",
        "     7+8+9)\n",
        "\n",
        "\n",
        "print(a)\n"
      ],
      "execution_count": 0,
      "outputs": [
        {
          "output_type": "stream",
          "text": [
            "45\n"
          ],
          "name": "stdout"
        }
      ]
    },
    {
      "cell_type": "code",
      "metadata": {
        "id": "sMCebwdBOpo3",
        "colab_type": "code",
        "colab": {}
      },
      "source": [
        "# multiple statement in single line\n",
        "a = 10 ; b=11; c = 13"
      ],
      "execution_count": 0,
      "outputs": []
    },
    {
      "cell_type": "code",
      "metadata": {
        "id": "-PIvhny5PP6d",
        "colab_type": "code",
        "colab": {}
      },
      "source": [
        "#Chapter 2.5 - Variables and data types\n",
        "\n",
        "a = 10 #integer\n",
        "b = 5.5 #float\n",
        "c = \"ML\" #string\n",
        "\n",
        "#or another way of writing is\n",
        "a, b, c = 10, 5.5, \"ML\"\n",
        "\n"
      ],
      "execution_count": 0,
      "outputs": []
    },
    {
      "cell_type": "code",
      "metadata": {
        "id": "w7GLvITfQ-uF",
        "colab_type": "code",
        "colab": {}
      },
      "source": [
        "#Storage location"
      ],
      "execution_count": 0,
      "outputs": []
    },
    {
      "cell_type": "code",
      "metadata": {
        "id": "q9JoyIg2Q_AR",
        "colab_type": "code",
        "outputId": "e1b854a1-1f6a-47b5-902e-f8f9fdacc3df",
        "colab": {
          "base_uri": "https://localhost:8080/",
          "height": 34
        }
      },
      "source": [
        "x = 3\n",
        "print(id(x))"
      ],
      "execution_count": 0,
      "outputs": [
        {
          "output_type": "stream",
          "text": [
            "10910464\n"
          ],
          "name": "stdout"
        }
      ]
    },
    {
      "cell_type": "code",
      "metadata": {
        "id": "ZgVBs-PzRDM7",
        "colab_type": "code",
        "outputId": "e3149012-819b-4b03-e1c4-ba021f35cd16",
        "colab": {
          "base_uri": "https://localhost:8080/",
          "height": 34
        }
      },
      "source": [
        "y = 3\n",
        "print(id(y))"
      ],
      "execution_count": 0,
      "outputs": [
        {
          "output_type": "stream",
          "text": [
            "10910464\n"
          ],
          "name": "stdout"
        }
      ]
    },
    {
      "cell_type": "code",
      "metadata": {
        "id": "s2_06VRTRGa7",
        "colab_type": "code",
        "outputId": "bd17fea0-e17f-4346-ed56-82c68c0cff05",
        "colab": {
          "base_uri": "https://localhost:8080/",
          "height": 34
        }
      },
      "source": [
        "a = 3\n",
        "print (type(a))"
      ],
      "execution_count": 0,
      "outputs": [
        {
          "output_type": "stream",
          "text": [
            "<class 'int'>\n"
          ],
          "name": "stdout"
        }
      ]
    },
    {
      "cell_type": "code",
      "metadata": {
        "id": "wRh-loWSStLm",
        "colab_type": "code",
        "outputId": "cad817ac-2671-4ca0-d6d6-63af9aac572b",
        "colab": {
          "base_uri": "https://localhost:8080/",
          "height": 34
        }
      },
      "source": [
        "a = 5.5\n",
        "print(type(a))"
      ],
      "execution_count": 0,
      "outputs": [
        {
          "output_type": "stream",
          "text": [
            "<class 'float'>\n"
          ],
          "name": "stdout"
        }
      ]
    },
    {
      "cell_type": "code",
      "metadata": {
        "id": "saU006tkSwWM",
        "colab_type": "code",
        "outputId": "236b65e9-c4e5-4610-a07a-8b1ae53a0047",
        "colab": {
          "base_uri": "https://localhost:8080/",
          "height": 51
        }
      },
      "source": [
        "a = 1+2j\n",
        "print(type(a))\n",
        "print(isinstance(a, complex)) #check the instance if it is complex then prints out as True"
      ],
      "execution_count": 0,
      "outputs": [
        {
          "output_type": "stream",
          "text": [
            "<class 'complex'>\n",
            "True\n"
          ],
          "name": "stdout"
        }
      ]
    },
    {
      "cell_type": "code",
      "metadata": {
        "id": "SEZiO_pSS0Oc",
        "colab_type": "code",
        "outputId": "c10c5daa-6d24-4831-814f-7c914f23479f",
        "colab": {
          "base_uri": "https://localhost:8080/",
          "height": 34
        }
      },
      "source": [
        "a = True\n",
        "print(type(a))"
      ],
      "execution_count": 0,
      "outputs": [
        {
          "output_type": "stream",
          "text": [
            "<class 'bool'>\n"
          ],
          "name": "stdout"
        }
      ]
    },
    {
      "cell_type": "code",
      "metadata": {
        "id": "5E3hN03pTM2W",
        "colab_type": "code",
        "outputId": "30eb2d2b-7856-4523-f504-5825ff8632bc",
        "colab": {
          "base_uri": "https://localhost:8080/",
          "height": 34
        }
      },
      "source": [
        "a = \"This is our AI course\" # can also be single quote char\n",
        "print(type(a))"
      ],
      "execution_count": 0,
      "outputs": [
        {
          "output_type": "stream",
          "text": [
            "<class 'str'>\n"
          ],
          "name": "stdout"
        }
      ]
    },
    {
      "cell_type": "code",
      "metadata": {
        "id": "5d3lGT4JTsuz",
        "colab_type": "code",
        "outputId": "9f943c44-55ab-491e-ff32-e159a8bc1057",
        "colab": {
          "base_uri": "https://localhost:8080/",
          "height": 68
        }
      },
      "source": [
        "a = \"\"\"AIIC course\n",
        "    this is our multiple line\"\"\"\n",
        "print(a)\n",
        "print(type(a))"
      ],
      "execution_count": 0,
      "outputs": [
        {
          "output_type": "stream",
          "text": [
            "AIIC course\n",
            "    this is our multiple line\n",
            "<class 'str'>\n"
          ],
          "name": "stdout"
        }
      ]
    },
    {
      "cell_type": "code",
      "metadata": {
        "id": "UNbX1diLUTPB",
        "colab_type": "code",
        "outputId": "6aaff652-40ea-492c-a1d5-9a934249b3d0",
        "colab": {
          "base_uri": "https://localhost:8080/",
          "height": 34
        }
      },
      "source": [
        "#print(a[3]) #prints c\n",
        "print(a[-1]) #prints the last char i.e. e and from there -1, -2, etc etc"
      ],
      "execution_count": 0,
      "outputs": [
        {
          "output_type": "stream",
          "text": [
            "e\n"
          ],
          "name": "stdout"
        }
      ]
    },
    {
      "cell_type": "code",
      "metadata": {
        "id": "ID8l9eCpUoAa",
        "colab_type": "code",
        "outputId": "c3fb3f37-7ad4-43c1-bb34-1fc2420b9f5a",
        "colab": {
          "base_uri": "https://localhost:8080/",
          "height": 51
        }
      },
      "source": [
        "#print everything from 5 onwards\n",
        "print(a[5:])"
      ],
      "execution_count": 0,
      "outputs": [
        {
          "output_type": "stream",
          "text": [
            "course\n",
            "    this is our multiple line\n"
          ],
          "name": "stdout"
        }
      ]
    },
    {
      "cell_type": "code",
      "metadata": {
        "id": "lYmf-q0SVdHO",
        "colab_type": "code",
        "outputId": "98f1f52d-525e-4eff-8b74-3e115108ecf1",
        "colab": {
          "base_uri": "https://localhost:8080/",
          "height": 34
        }
      },
      "source": [
        "# print from 5 to 9th and not till 10th\n",
        "print(a[5:10])"
      ],
      "execution_count": 0,
      "outputs": [
        {
          "output_type": "stream",
          "text": [
            "cours\n"
          ],
          "name": "stdout"
        }
      ]
    },
    {
      "cell_type": "code",
      "metadata": {
        "id": "wHBNzoKcZbDI",
        "colab_type": "code",
        "outputId": "f0586ff9-1c19-4875-9d6e-50971d568615",
        "colab": {
          "base_uri": "https://localhost:8080/",
          "height": 34
        }
      },
      "source": [
        "#python list\n",
        "\n",
        "a = [10, 2.5, \"AI\"]\n",
        "print(a[1])"
      ],
      "execution_count": 0,
      "outputs": [
        {
          "output_type": "stream",
          "text": [
            "2.5\n"
          ],
          "name": "stdout"
        }
      ]
    },
    {
      "cell_type": "code",
      "metadata": {
        "id": "r3nO_iyEaIa4",
        "colab_type": "code",
        "outputId": "e0601f85-620a-443b-f6b7-b1fdfbe1df09",
        "colab": {
          "base_uri": "https://localhost:8080/",
          "height": 51
        }
      },
      "source": [
        "#lists are mutable\n",
        "a[1] = 30.1\n",
        "print(a)\n",
        "print(type(a))"
      ],
      "execution_count": 0,
      "outputs": [
        {
          "output_type": "stream",
          "text": [
            "[10, 30.1, 'AI']\n",
            "<class 'list'>\n"
          ],
          "name": "stdout"
        }
      ]
    },
    {
      "cell_type": "code",
      "metadata": {
        "id": "--go4NVEao2Y",
        "colab_type": "code",
        "outputId": "2554bd97-4202-40a3-eff1-a302393b8b8f",
        "colab": {
          "base_uri": "https://localhost:8080/",
          "height": 68
        }
      },
      "source": [
        "#tuples\n",
        "z = (10, 1.5, \"ML\")\n",
        "print(z[2])\n",
        "print(z)\n",
        "print(type(z))"
      ],
      "execution_count": 0,
      "outputs": [
        {
          "output_type": "stream",
          "text": [
            "ML\n",
            "(10, 1.5, 'ML')\n",
            "<class 'tuple'>\n"
          ],
          "name": "stdout"
        }
      ]
    },
    {
      "cell_type": "code",
      "metadata": {
        "id": "L0G72FFFcvqj",
        "colab_type": "code",
        "outputId": "b4e9b130-0b7f-448c-8287-d41f9283300f",
        "colab": {
          "base_uri": "https://localhost:8080/",
          "height": 51
        }
      },
      "source": [
        "y = {10, 17, 2, 3}\n",
        "print(y)\n",
        "print(type(y))"
      ],
      "execution_count": 0,
      "outputs": [
        {
          "output_type": "stream",
          "text": [
            "{3, 17, 10, 2}\n",
            "<class 'set'>\n"
          ],
          "name": "stdout"
        }
      ]
    },
    {
      "cell_type": "code",
      "metadata": {
        "id": "-8ZCzmJqgErW",
        "colab_type": "code",
        "outputId": "3b55442d-6dc9-4214-b5a2-6ba8ebf6fb26",
        "colab": {
          "base_uri": "https://localhost:8080/",
          "height": 34
        }
      },
      "source": [
        "#set storing only unique values\n",
        "w = {1,1,2,3,4,5,6,7,7,7,7}\n",
        "print(w)"
      ],
      "execution_count": 0,
      "outputs": [
        {
          "output_type": "stream",
          "text": [
            "{1, 2, 3, 4, 5, 6, 7}\n"
          ],
          "name": "stdout"
        }
      ]
    },
    {
      "cell_type": "code",
      "metadata": {
        "id": "9BzVAj8Lhtt2",
        "colab_type": "code",
        "outputId": "8f95b96a-b61c-48f1-9d33-10f3dbc7d9e6",
        "colab": {
          "base_uri": "https://localhost:8080/",
          "height": 85
        }
      },
      "source": [
        "#dictionary\n",
        "d = {'a':\"apple\", 'b':\"bat\", '1': \"20\"}\n",
        "print(d)\n",
        "print(type(d))\n",
        "print(d['1'])\n",
        "print(d['a'])"
      ],
      "execution_count": 0,
      "outputs": [
        {
          "output_type": "stream",
          "text": [
            "{'a': 'apple', 'b': 'bat', '1': '20'}\n",
            "<class 'dict'>\n",
            "20\n",
            "apple\n"
          ],
          "name": "stdout"
        }
      ]
    },
    {
      "cell_type": "code",
      "metadata": {
        "id": "ShhZj9smj1ml",
        "colab_type": "code",
        "outputId": "99ea5501-5042-47c6-eb11-6a83ae01e23a",
        "colab": {
          "base_uri": "https://localhost:8080/",
          "height": 34
        }
      },
      "source": [
        "float(5)"
      ],
      "execution_count": 0,
      "outputs": [
        {
          "output_type": "execute_result",
          "data": {
            "text/plain": [
              "5.0"
            ]
          },
          "metadata": {
            "tags": []
          },
          "execution_count": 43
        }
      ]
    },
    {
      "cell_type": "code",
      "metadata": {
        "id": "auKtRbN8kmou",
        "colab_type": "code",
        "outputId": "e4b6641e-d770-43d2-fb6a-12dcd3776d32",
        "colab": {
          "base_uri": "https://localhost:8080/",
          "height": 34
        }
      },
      "source": [
        "int(100.5)"
      ],
      "execution_count": 0,
      "outputs": [
        {
          "output_type": "execute_result",
          "data": {
            "text/plain": [
              "100"
            ]
          },
          "metadata": {
            "tags": []
          },
          "execution_count": 44
        }
      ]
    },
    {
      "cell_type": "code",
      "metadata": {
        "id": "RkuH5fqtkoLG",
        "colab_type": "code",
        "outputId": "2af113a3-f071-47e4-b04b-363bece89d66",
        "colab": {
          "base_uri": "https://localhost:8080/",
          "height": 34
        }
      },
      "source": [
        "str(100)"
      ],
      "execution_count": 0,
      "outputs": [
        {
          "output_type": "execute_result",
          "data": {
            "text/plain": [
              "'100'"
            ]
          },
          "metadata": {
            "tags": []
          },
          "execution_count": 45
        }
      ]
    },
    {
      "cell_type": "code",
      "metadata": {
        "id": "F2ZgfuLzkp_-",
        "colab_type": "code",
        "outputId": "4b38ea97-4a9a-4501-d23e-177aad8ac9e4",
        "colab": {
          "base_uri": "https://localhost:8080/",
          "height": 119
        }
      },
      "source": [
        "#conversion\n",
        "\n",
        "s = [1,2,3]\n",
        "print(type(s))\n",
        "\n",
        "a = set(s)\n",
        "print(type(a))\n",
        "\n",
        "#conversion from sting to list\n",
        "f = \"hello\"\n",
        "print(type(f))\n",
        "print(f)\n",
        "print(type(f))\n",
        "f = list(f)\n",
        "print(f)"
      ],
      "execution_count": 0,
      "outputs": [
        {
          "output_type": "stream",
          "text": [
            "<class 'list'>\n",
            "<class 'set'>\n",
            "<class 'str'>\n",
            "hello\n",
            "<class 'str'>\n",
            "['h', 'e', 'l', 'l', 'o']\n"
          ],
          "name": "stdout"
        }
      ]
    },
    {
      "cell_type": "code",
      "metadata": {
        "id": "8IMBRd7Dm4uT",
        "colab_type": "code",
        "outputId": "f6b329aa-6406-4821-b3b1-7e2bd451e58a",
        "colab": {
          "base_uri": "https://localhost:8080/",
          "height": 34
        }
      },
      "source": [
        "#python input and output\n",
        "\n",
        "print(\"hello world\")"
      ],
      "execution_count": 0,
      "outputs": [
        {
          "output_type": "stream",
          "text": [
            "hello world\n"
          ],
          "name": "stdout"
        }
      ]
    },
    {
      "cell_type": "code",
      "metadata": {
        "id": "7s6Zemo5XewP",
        "colab_type": "code",
        "outputId": "4c553665-ee4a-4223-dcc9-00b40bb05531",
        "colab": {
          "base_uri": "https://localhost:8080/",
          "height": 51
        }
      },
      "source": [
        "a = 10\n",
        "print (\"value of a in int is\", a)\n",
        "print (\"value of a in str is\" + str(a))\n"
      ],
      "execution_count": 0,
      "outputs": [
        {
          "output_type": "stream",
          "text": [
            "value of a in int is 10\n",
            "value of a in str is10\n"
          ],
          "name": "stdout"
        }
      ]
    },
    {
      "cell_type": "code",
      "metadata": {
        "id": "PFS1hYnFXez6",
        "colab_type": "code",
        "outputId": "8d922dfb-2b73-4028-89cd-6f47f7172655",
        "colab": {
          "base_uri": "https://localhost:8080/",
          "height": 51
        }
      },
      "source": [
        "b = 20; c= 45\n",
        "print(\"The value of b is {} and the value of c is {}\".format(b,c))\n",
        "print(\"the new values of a is {2} b is {1} and c is {0}\".format(a,b,c)) #change the values by changing the arguments"
      ],
      "execution_count": 0,
      "outputs": [
        {
          "output_type": "stream",
          "text": [
            "The value of b is 20 and the value of c is 45\n",
            "the new values of a is 45 b is 20 and c is 10\n"
          ],
          "name": "stdout"
        }
      ]
    },
    {
      "cell_type": "code",
      "metadata": {
        "id": "gLFpAHIHXe5g",
        "colab_type": "code",
        "outputId": "06943b8a-5d52-43a1-c68c-851e7ca37e17",
        "colab": {
          "base_uri": "https://localhost:8080/",
          "height": 51
        }
      },
      "source": [
        "print(\"hello good morning {0}, welcome to {1} course\".format('rakesh', 'AI'))\n",
        "print(\"hello good morning {name}, welcome to {course} course\".format(name='rakesh', course='AI'))\n"
      ],
      "execution_count": 0,
      "outputs": [
        {
          "output_type": "stream",
          "text": [
            "hello good morning rakesh, welcome to AI course\n",
            "hello good morning rakesh, welcome to AI course\n"
          ],
          "name": "stdout"
        }
      ]
    },
    {
      "cell_type": "code",
      "metadata": {
        "id": "0K7cEPKPXe82",
        "colab_type": "code",
        "outputId": "42822e7a-e85e-4b26-a042-8c7a7e12ed08",
        "colab": {
          "base_uri": "https://localhost:8080/",
          "height": 51
        }
      },
      "source": [
        "num = input(\"Enter a number\")\n",
        "print(num)"
      ],
      "execution_count": 0,
      "outputs": [
        {
          "output_type": "stream",
          "text": [
            "Enter a number1234567890\n",
            "1234567890\n"
          ],
          "name": "stdout"
        }
      ]
    },
    {
      "cell_type": "code",
      "metadata": {
        "id": "JFjh4sXwarQz",
        "colab_type": "code",
        "colab": {}
      },
      "source": [
        "#Operators"
      ],
      "execution_count": 0,
      "outputs": []
    },
    {
      "cell_type": "code",
      "metadata": {
        "id": "eNcNdftuarT0",
        "colab_type": "code",
        "outputId": "52acf483-b86f-45c3-942b-b025e4c8908a",
        "colab": {
          "base_uri": "https://localhost:8080/",
          "height": 68
        }
      },
      "source": [
        "x,y = 10,20\n",
        "print(x+y)\n",
        "print(x-y)\n",
        "print(x*y)"
      ],
      "execution_count": 0,
      "outputs": [
        {
          "output_type": "stream",
          "text": [
            "30\n",
            "-10\n",
            "200\n"
          ],
          "name": "stdout"
        }
      ]
    },
    {
      "cell_type": "code",
      "metadata": {
        "id": "ymiPOsrTarYn",
        "colab_type": "code",
        "outputId": "9e0e7981-28ac-42c5-ff40-c09db64f6520",
        "colab": {
          "base_uri": "https://localhost:8080/",
          "height": 85
        }
      },
      "source": [
        "#modulo\n",
        "print(15%2)\n",
        "#floor\n",
        "print (15//2) \n",
        "print(-15//2)\n",
        "print(15/-2) #need to check this"
      ],
      "execution_count": 0,
      "outputs": [
        {
          "output_type": "stream",
          "text": [
            "1\n",
            "7\n",
            "-8\n",
            "-7.5\n"
          ],
          "name": "stdout"
        }
      ]
    },
    {
      "cell_type": "code",
      "metadata": {
        "id": "_e7Yy6Zbarbc",
        "colab_type": "code",
        "outputId": "106807d0-a310-4085-d67e-fa9e5d2f8111",
        "colab": {
          "base_uri": "https://localhost:8080/",
          "height": 34
        }
      },
      "source": [
        "a,b = 10, 20\n",
        "print(a<b)"
      ],
      "execution_count": 0,
      "outputs": [
        {
          "output_type": "stream",
          "text": [
            "True\n"
          ],
          "name": "stdout"
        }
      ]
    },
    {
      "cell_type": "code",
      "metadata": {
        "id": "JE3BGyLparfM",
        "colab_type": "code",
        "outputId": "07bc9a4f-f19a-4ef3-d0d2-8637eb3d3eb0",
        "colab": {
          "base_uri": "https://localhost:8080/",
          "height": 51
        }
      },
      "source": [
        "a, b = True, False\n",
        "print(a and b)\n",
        "print(a or b)"
      ],
      "execution_count": 0,
      "outputs": [
        {
          "output_type": "stream",
          "text": [
            "False\n",
            "True\n"
          ],
          "name": "stdout"
        }
      ]
    },
    {
      "cell_type": "code",
      "metadata": {
        "id": "quFIoHSCarW2",
        "colab_type": "code",
        "outputId": "06b34aae-a937-43df-98e5-96772139599f",
        "colab": {
          "base_uri": "https://localhost:8080/",
          "height": 51
        }
      },
      "source": [
        "#binary\n",
        "a, b = 10, 4\n",
        "print (a & b)\n",
        "print (a | b)"
      ],
      "execution_count": 0,
      "outputs": [
        {
          "output_type": "stream",
          "text": [
            "0\n",
            "14\n"
          ],
          "name": "stdout"
        }
      ]
    },
    {
      "cell_type": "code",
      "metadata": {
        "id": "SgODwsT-e6Sh",
        "colab_type": "code",
        "outputId": "2e0e773d-e986-4e29-c360-f370541af94c",
        "colab": {
          "base_uri": "https://localhost:8080/",
          "height": 34
        }
      },
      "source": [
        "a += 10\n",
        "print(a)"
      ],
      "execution_count": 0,
      "outputs": [
        {
          "output_type": "stream",
          "text": [
            "30\n"
          ],
          "name": "stdout"
        }
      ]
    },
    {
      "cell_type": "code",
      "metadata": {
        "id": "X6cH2bjIfITu",
        "colab_type": "code",
        "outputId": "7363ddeb-ba15-46f5-a410-6841688a3582",
        "colab": {
          "base_uri": "https://localhost:8080/",
          "height": 68
        }
      },
      "source": [
        "a = 5\n",
        "b = 5\n",
        "print(a is b)\n",
        "\n",
        "q1 = [1,2,3]\n",
        "w1 = [1,2,3]\n",
        "print(q1 is w1)\n",
        "\n",
        "e1 = \"AAIC\"\n",
        "r1 = \"AAIC\"\n",
        "print(e1 is r1)"
      ],
      "execution_count": 0,
      "outputs": [
        {
          "output_type": "stream",
          "text": [
            "True\n",
            "False\n",
            "True\n"
          ],
          "name": "stdout"
        }
      ]
    },
    {
      "cell_type": "code",
      "metadata": {
        "id": "l9PoSV9mgKJ4",
        "colab_type": "code",
        "outputId": "590f3793-db09-4609-d60b-fe1d95b6838e",
        "colab": {
          "base_uri": "https://localhost:8080/",
          "height": 51
        }
      },
      "source": [
        "t = [1,2,3,4,5, \"st\"]\n",
        "print (\"st\" in t)\n",
        "print (6 in t)"
      ],
      "execution_count": 0,
      "outputs": [
        {
          "output_type": "stream",
          "text": [
            "True\n",
            "False\n"
          ],
          "name": "stdout"
        }
      ]
    },
    {
      "cell_type": "code",
      "metadata": {
        "id": "4cAgk3alhTEv",
        "colab_type": "code",
        "outputId": "e1832499-5b13-4d74-a561-de42489a3b5f",
        "colab": {
          "base_uri": "https://localhost:8080/",
          "height": 51
        }
      },
      "source": [
        "y = {a : \"data1\", b : \"beta1\"}\n",
        "print (a in y)\n",
        "print (\"data\" in y) #can only check for keys and not for values"
      ],
      "execution_count": 0,
      "outputs": [
        {
          "output_type": "stream",
          "text": [
            "True\n",
            "False\n"
          ],
          "name": "stdout"
        }
      ]
    },
    {
      "cell_type": "code",
      "metadata": {
        "id": "WFmfsKG2huZY",
        "colab_type": "code",
        "outputId": "d8852324-6a33-444f-96ca-7bd6b8801f4b",
        "colab": {
          "base_uri": "https://localhost:8080/",
          "height": 51
        }
      },
      "source": [
        "# control flow\n",
        "\n",
        "a = 15\n",
        "if (a > 10):\n",
        "  print (\"zzzz\")\n",
        "print(\"Always print\")\n"
      ],
      "execution_count": 0,
      "outputs": [
        {
          "output_type": "stream",
          "text": [
            "zzzz\n",
            "Always print\n"
          ],
          "name": "stdout"
        }
      ]
    },
    {
      "cell_type": "code",
      "metadata": {
        "id": "m_4UwQxGi1IU",
        "colab_type": "code",
        "outputId": "604781fc-67d7-46b6-a467-298a55608ab3",
        "colab": {
          "base_uri": "https://localhost:8080/",
          "height": 34
        }
      },
      "source": [
        "y = 20\n",
        "\n",
        "if (y > 25):\n",
        "  print(\"This\")\n",
        "else:\n",
        "  print (\"That\")"
      ],
      "execution_count": 0,
      "outputs": [
        {
          "output_type": "stream",
          "text": [
            "That\n"
          ],
          "name": "stdout"
        }
      ]
    },
    {
      "cell_type": "code",
      "metadata": {
        "id": "SjFx7fFsjCXW",
        "colab_type": "code",
        "outputId": "ab4df276-2e72-4e00-8186-fcdbd94c51f2",
        "colab": {
          "base_uri": "https://localhost:8080/",
          "height": 34
        }
      },
      "source": [
        "nuke = 10\n",
        "if (nuke > 0):\n",
        "  print(\"+ve number\")\n",
        "elif (nuke == 0):\n",
        "  print(\"zero\")\n",
        "else:\n",
        "  print(\"-ve number\")\n",
        "  \n"
      ],
      "execution_count": 0,
      "outputs": [
        {
          "output_type": "stream",
          "text": [
            "+ve number\n"
          ],
          "name": "stdout"
        }
      ]
    },
    {
      "cell_type": "code",
      "metadata": {
        "id": "49HNw9MZjliY",
        "colab_type": "code",
        "outputId": "ed844c66-fe59-422f-bcee-cd457917ce86",
        "colab": {
          "base_uri": "https://localhost:8080/",
          "height": 204
        }
      },
      "source": [
        "#while loop\n",
        "\n",
        "lst = [10,20,30,40,50]\n",
        "product = 1\n",
        "index = 0\n",
        "\n",
        "while index < len(lst):\n",
        "  print(\"product is {}\".format(product))\n",
        "  print (\"index is {}\".format(index))\n",
        "  product = product * lst[index]\n",
        "  index +=1\n",
        "  \n",
        "print(\"final product is {}\".format(product))  \n"
      ],
      "execution_count": 0,
      "outputs": [
        {
          "output_type": "stream",
          "text": [
            "product is 1\n",
            "index is 0\n",
            "product is 10\n",
            "index is 1\n",
            "product is 200\n",
            "index is 2\n",
            "product is 6000\n",
            "index is 3\n",
            "product is 240000\n",
            "index is 4\n",
            "final product is 12000000\n"
          ],
          "name": "stdout"
        }
      ]
    },
    {
      "cell_type": "code",
      "metadata": {
        "id": "7MgOKnZ4lezn",
        "colab_type": "code",
        "colab": {}
      },
      "source": [
        "#if the given number is prime or no\n",
        "\n",
        "number_input = int(input(\"Enter a number\"))\n",
        "\n",
        "index = 2\n",
        "\n",
        "while index < number_input:\n",
        "  if(number_input % index) :\n",
        "    print(\"The number {} is divisble by {}\".format())\n",
        "\n"
      ],
      "execution_count": 0,
      "outputs": []
    },
    {
      "cell_type": "code",
      "metadata": {
        "id": "9S4SeuqQqHTo",
        "colab_type": "code",
        "outputId": "437b8fa2-9c08-43d7-f576-2ee852d4a21f",
        "colab": {
          "base_uri": "https://localhost:8080/",
          "height": 187
        }
      },
      "source": [
        "for i in range(10):\n",
        "  print(i)"
      ],
      "execution_count": 0,
      "outputs": [
        {
          "output_type": "stream",
          "text": [
            "0\n",
            "1\n",
            "2\n",
            "3\n",
            "4\n",
            "5\n",
            "6\n",
            "7\n",
            "8\n",
            "9\n"
          ],
          "name": "stdout"
        }
      ]
    },
    {
      "cell_type": "code",
      "metadata": {
        "id": "8wVTOb5NqHXg",
        "colab_type": "code",
        "colab": {}
      },
      "source": [
        ""
      ],
      "execution_count": 0,
      "outputs": []
    }
  ]
}